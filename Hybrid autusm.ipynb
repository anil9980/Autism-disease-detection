{
 "cells": [
  {
   "cell_type": "code",
   "execution_count": 1,
   "metadata": {},
   "outputs": [],
   "source": [
    "#Importing the libraries\n",
    "import numpy as np\n",
    "import matplotlib.pyplot as plt\n",
    "import pandas as pd\n",
    "from sklearn.tree import DecisionTreeClassifier\n",
    "from sklearn.linear_model import LogisticRegression\n",
    "from sklearn.svm import SVC\n",
    "from sklearn.neighbors import KNeighborsClassifier\n",
    "from sklearn.naive_bayes import GaussianNB\n",
    "from sklearn.ensemble import VotingClassifier\n",
    "from sklearn import model_selection\n",
    "from sklearn.metrics import confusion_matrix\n",
    "from sklearn. preprocessing import StandardScaler\n",
    "from sklearn.model_selection import train_test_split\n",
    "import warnings\n",
    "warnings.filterwarnings('ignore')"
   ]
  },
  {
   "cell_type": "code",
   "execution_count": 2,
   "metadata": {},
   "outputs": [],
   "source": [
    "data = pd.read_csv(\"data.csv\")"
   ]
  },
  {
   "cell_type": "code",
   "execution_count": 3,
   "metadata": {},
   "outputs": [
    {
     "data": {
      "text/plain": [
       "pandas.core.frame.DataFrame"
      ]
     },
     "execution_count": 3,
     "metadata": {},
     "output_type": "execute_result"
    }
   ],
   "source": [
    "type(data)"
   ]
  },
  {
   "cell_type": "code",
   "execution_count": 4,
   "metadata": {},
   "outputs": [],
   "source": [
    "from sklearn import preprocessing\n",
    "le = preprocessing.LabelEncoder()"
   ]
  },
  {
   "cell_type": "code",
   "execution_count": 5,
   "metadata": {},
   "outputs": [],
   "source": [
    "age = le.fit_transform(data.age)\n",
    "gender = le.fit_transform(data.gender)\n",
    "ethnicity = le.fit_transform(data.ethnicity)\n",
    "jaundice = le.fit_transform(data.jaundice)\n",
    "austim = le.fit_transform(data.austim)\n",
    "country_of_res = le.fit_transform(data.country_of_res)\n",
    "used_app_before = le.fit_transform(data.used_app_before)\n",
    "age_desc = le.fit_transform(data.age_desc)\n",
    "relation = le.fit_transform(data.relation)\n",
    "class1 = le.fit_transform(data.class1)\n",
    "\n",
    "testing = data\n",
    "\n",
    "testing['age'] = age\n",
    "testing['gender'] = gender\n",
    "testing['ethnicity'] = ethnicity\n",
    "testing['jaundice'] = jaundice\n",
    "testing['austim'] = austim\n",
    "testing['country_of_res'] = country_of_res\n",
    "testing['used_app_before'] = used_app_before\n",
    "testing['age_desc'] = age_desc\n",
    "testing['relation'] = relation\n",
    "testing['class1'] = class1\n"
   ]
  },
  {
   "cell_type": "code",
   "execution_count": 6,
   "metadata": {},
   "outputs": [],
   "source": [
    "X = data.iloc[:,:-1]\n",
    "y = data.iloc[:,-1]"
   ]
  },
  {
   "cell_type": "code",
   "execution_count": 7,
   "metadata": {},
   "outputs": [
    {
     "name": "stdout",
     "output_type": "stream",
     "text": [
      "     A1_Score  A2_Score  A3_Score  A4_Score  A5_Score  A6_Score  A7_Score  \\\n",
      "879         0         1         0         0         1         0         1   \n",
      "417         1         0         1         1         1         1         0   \n",
      "570         0         0         1         1         0         1         1   \n",
      "163         1         1         1         1         0         0         0   \n",
      "976         0         1         1         1         1         1         0   \n",
      "..        ...       ...       ...       ...       ...       ...       ...   \n",
      "802         1         1         1         1         1         1         1   \n",
      "53          0         0         0         1         1         1         0   \n",
      "350         1         0         0         1         1         0         1   \n",
      "79          1         0         1         1         0         1         1   \n",
      "792         1         0         1         1         1         1         1   \n",
      "\n",
      "     A8_Score  A9_Score  A10_Score  age  gender  ethnicity  jaundice  austim  \\\n",
      "879         0         0          1   56       0         10         1       0   \n",
      "417         1         1          0    9       1          5         0       0   \n",
      "570         1         1          1    8       1         10         0       0   \n",
      "163         1         0          0   36       0         10         0       0   \n",
      "976         1         1          1   57       1          2         1       0   \n",
      "..        ...       ...        ...  ...     ...        ...       ...     ...   \n",
      "802         1         1          1   17       0          8         0       0   \n",
      "53          0         0          1    3       1          0         0       0   \n",
      "350         1         0          0   10       1          8         0       0   \n",
      "79          1         1          1    6       0         10         1       0   \n",
      "792         0         1          1   16       1          4         0       0   \n",
      "\n",
      "     country_of_res  used_app_before  result  age_desc  relation  \n",
      "879              12                0       4         3         3  \n",
      "417              13                1       7         2         5  \n",
      "570              69                0       7         2         4  \n",
      "163              23                0       5         2         5  \n",
      "976              80                0       8         3         1  \n",
      "..              ...              ...     ...       ...       ...  \n",
      "802              23                0      10         2         5  \n",
      "53               42                0       4         1         2  \n",
      "350               4                0       5         2         5  \n",
      "79               12                0       8         1         3  \n",
      "792              35                0       8         2         5  \n",
      "\n",
      "[880 rows x 20 columns]\n"
     ]
    }
   ],
   "source": [
    "from sklearn.model_selection import train_test_split\n",
    "X_train , X_test , y_train , y_test = train_test_split(X,y,test_size=0.2,random_state=100)\n",
    "print(X_train)"
   ]
  },
  {
   "cell_type": "code",
   "execution_count": 8,
   "metadata": {},
   "outputs": [],
   "source": [
    "estimators = []\n",
    "model11 = LogisticRegression(penalty = 'l2', random_state = 0)\n",
    "estimators.append(('logistic1', model11))\n",
    "model12 = LogisticRegression(penalty = 'l2', random_state = 0)\n",
    "estimators.append(('logistic2', model12))\n",
    "model13 = LogisticRegression(penalty = 'l2', random_state = 0)\n",
    "estimators.append(('logistic3', model13))\n",
    "model14 = LogisticRegression(penalty = 'l2', random_state = 0)\n",
    "estimators.append(('logistic4', model14))\n",
    "model15 = LogisticRegression(penalty = 'l2', random_state = 0)\n",
    "estimators.append(('logistic5', model15))"
   ]
  },
  {
   "cell_type": "code",
   "execution_count": 9,
   "metadata": {},
   "outputs": [],
   "source": [
    "model16 = DecisionTreeClassifier(max_depth = 3)\n",
    "estimators.append(('cart1', model16))\n",
    "model17 = DecisionTreeClassifier(max_depth = 4)\n",
    "estimators.append(('cart2', model17))\n",
    "model18 = DecisionTreeClassifier(max_depth = 5)\n",
    "estimators.append(('cart3', model18))\n",
    "model19 = DecisionTreeClassifier(max_depth = 2)\n",
    "estimators.append(('cart4', model19))\n",
    "model20 = DecisionTreeClassifier(max_depth = 3)\n",
    "estimators.append(('cart5', model20))"
   ]
  },
  {
   "cell_type": "code",
   "execution_count": 10,
   "metadata": {},
   "outputs": [],
   "source": [
    "#Defining 5 Support Vector Classifiers\n",
    "model21 = SVC(kernel = 'linear')\n",
    "estimators.append(('svm1', model21))\n",
    "model22 = SVC(kernel = 'poly')\n",
    "estimators.append(('svm2', model22))\n",
    "model23 = SVC(kernel = 'rbf')\n",
    "estimators.append(('svm3', model23))\n",
    "model24 = SVC(kernel = 'rbf')\n",
    "estimators.append(('svm4', model24))\n",
    "model25 = SVC(kernel = 'linear')\n",
    "estimators.append(('svm5', model25))"
   ]
  },
  {
   "cell_type": "code",
   "execution_count": 11,
   "metadata": {},
   "outputs": [],
   "source": [
    "#Defining 5 K-NN classifiers\n",
    "model26 = KNeighborsClassifier(n_neighbors = 5, metric = 'minkowski', p = 2)\n",
    "estimators.append(('knn1', model26))\n",
    "model27 = KNeighborsClassifier(n_neighbors = 5, metric = 'minkowski', p = 2)\n",
    "estimators.append(('knn2', model27))\n",
    "model28 = KNeighborsClassifier(n_neighbors = 6, metric = 'minkowski', p = 2)\n",
    "estimators.append(('knn3', model28))\n",
    "model29 = KNeighborsClassifier(n_neighbors = 4, metric = 'minkowski', p = 1)\n",
    "estimators.append(('knn4', model29))\n",
    "model30 = KNeighborsClassifier(n_neighbors = 5, metric = 'minkowski', p = 1)\n",
    "estimators.append(('knn5', model30))"
   ]
  },
  {
   "cell_type": "code",
   "execution_count": 12,
   "metadata": {},
   "outputs": [],
   "source": [
    "#Defining 5 Naive Bayes classifiers\n",
    "model31 = GaussianNB()\n",
    "estimators.append(('nbs1', model31))\n",
    "model32 = GaussianNB()\n",
    "estimators.append(('nbs2', model32))\n",
    "model33 = GaussianNB()\n",
    "estimators.append(('nbs3', model33))\n",
    "model34 = GaussianNB()\n",
    "estimators.append(('nbs4', model34))\n",
    "model35 = GaussianNB()\n",
    "estimators.append(('nbs5', model35))"
   ]
  },
  {
   "cell_type": "code",
   "execution_count": 13,
   "metadata": {},
   "outputs": [],
   "source": [
    "ensemble = VotingClassifier(estimators)\n",
    "ensemble.fit(X_train, y_train)\n",
    "y_pred = ensemble.predict(X_test)\n"
   ]
  },
  {
   "cell_type": "code",
   "execution_count": 14,
   "metadata": {},
   "outputs": [],
   "source": [
    "#Confisuin matrix\n",
    "cm_HybridEnsembler = confusion_matrix(y_test, y_pred)"
   ]
  },
  {
   "cell_type": "code",
   "execution_count": 15,
   "metadata": {},
   "outputs": [
    {
     "name": "stdout",
     "output_type": "stream",
     "text": [
      "0.9977272727272727\n"
     ]
    }
   ],
   "source": [
    "#Cross-Validation\n",
    "seed = 7\n",
    "kfold = model_selection.KFold(n_splits=10, random_state=None)\n",
    "results = model_selection.cross_val_score(ensemble, X_train, y_train, cv=kfold)\n",
    "print(results.mean())\n",
    "#Output:-"
   ]
  }
 ],
 "metadata": {
  "kernelspec": {
   "display_name": "Python 3",
   "language": "python",
   "name": "python3"
  },
  "language_info": {
   "codemirror_mode": {
    "name": "ipython",
    "version": 3
   },
   "file_extension": ".py",
   "mimetype": "text/x-python",
   "name": "python",
   "nbconvert_exporter": "python",
   "pygments_lexer": "ipython3",
   "version": "3.8.3"
  }
 },
 "nbformat": 4,
 "nbformat_minor": 5
}
